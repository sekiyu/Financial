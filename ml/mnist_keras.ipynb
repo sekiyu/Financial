{
 "cells": [
  {
   "cell_type": "code",
   "execution_count": 3,
   "metadata": {},
   "outputs": [],
   "source": [
    "from sklearn.datasets import fetch_mldata\n",
    "mnist = fetch_mldata('MNIST original', data_home='.')"
   ]
  },
  {
   "cell_type": "code",
   "execution_count": 4,
   "metadata": {},
   "outputs": [
    {
     "name": "stdout",
     "output_type": "stream",
     "text": [
      "<class 'sklearn.utils.Bunch'>\n",
      "dict_keys(['DESCR', 'COL_NAMES', 'target', 'data'])\n"
     ]
    }
   ],
   "source": [
    "print(type(mnist))\n",
    "print(mnist.keys())"
   ]
  },
  {
   "cell_type": "code",
   "execution_count": 5,
   "metadata": {},
   "outputs": [
    {
     "name": "stdout",
     "output_type": "stream",
     "text": [
      "(70000, 784)\n",
      "(70000,)\n"
     ]
    }
   ],
   "source": [
    "mnist_data = mnist.data / 255\n",
    "mnist_label = mnist.target\n",
    "\n",
    "print(mnist_data.shape)\n",
    "print(mnist_label.shape)"
   ]
  },
  {
   "cell_type": "code",
   "execution_count": 6,
   "metadata": {},
   "outputs": [],
   "source": [
    "import matplotlib.pyplot as plt\n",
    "%matplotlib inline"
   ]
  },
  {
   "cell_type": "code",
   "execution_count": 8,
   "metadata": {},
   "outputs": [
    {
     "name": "stdout",
     "output_type": "stream",
     "text": [
      "label =  3.0\n"
     ]
    },
    {
     "data": {
      "image/png": "[encoded data removed]",
      "text/plain": [
       "<matplotlib.figure.Figure at 0x13b6faa20>"
      ]
     },
     "metadata": {},
     "output_type": "display_data"
    }
   ],
   "source": [
    "i = 20000\n",
    "print('label = ', mnist_label[i])\n",
    "plt.imshow(mnist_data[i].reshape(28,28),cmap='gray_r')\n",
    "plt.show()"
   ]
  },
  {
   "cell_type": "code",
   "execution_count": 9,
   "metadata": {},
   "outputs": [],
   "source": [
    "from sklearn.model_selection import train_test_split\n",
    "X_train, X_test, Y_train, Y_test = train_test_split(mnist_data, mnist_label, test_size = 0.2)"
   ]
  },
  {
   "cell_type": "code",
   "execution_count": 10,
   "metadata": {},
   "outputs": [],
   "source": [
    "from keras.utils import np_utils\n",
    "Y_categorical_train = np_utils.to_categorical(Y_train)\n",
    "Y_categorical_test = np_utils.to_categorical(Y_test)"
   ]
  },
  {
   "cell_type": "code",
   "execution_count": 11,
   "metadata": {},
   "outputs": [],
   "source": [
    "import numpy as np\n",
    "from keras.models import Model\n",
    "from keras.layers import Dense, Input, Dropout\n",
    "from keras.optimizers import Adam, SGD\n",
    "from keras.callbacks import TensorBoard"
   ]
  },
  {
   "cell_type": "code",
   "execution_count": 12,
   "metadata": {},
   "outputs": [],
   "source": [
    "num_length = X_train.shape[1]\n",
    "num_class = Y_categorical_train.shape[1]\n",
    "num_hidden = 200\n",
    "X_input = Input(shape = (num_length, ))\n",
    "Y_output = Dense(units = num_hidden, activation = 'sigmoid')(X_input)\n",
    "#Y_output = Dropout(0.5)(Y_output)\n",
    "Y_output = Dense(units = num_class, activation = 'softmax')(Y_output)"
   ]
  },
  {
   "cell_type": "code",
   "execution_count": 13,
   "metadata": {},
   "outputs": [],
   "source": [
    "model = Model(inputs = X_input, outputs = Y_output)\n",
    "model.compile(loss = 'categorical_crossentropy', optimizer = Adam(lr = 0.01), metrics = ['accuracy'])"
   ]
  },
  {
   "cell_type": "code",
   "execution_count": 14,
   "metadata": {},
   "outputs": [],
   "source": [
    "tb_cd = TensorBoard(log_dir = 'tb_log/')"
   ]
  },
  {
   "cell_type": "code",
   "execution_count": 15,
   "metadata": {},
   "outputs": [
    {
     "name": "stdout",
     "output_type": "stream",
     "text": [
      "Train on 56000 samples, validate on 14000 samples\n",
      "Epoch 1/5\n",
      "56000/56000 [==============================] - 2s 40us/step - loss: 0.2634 - acc: 0.9194 - val_loss: 0.1425 - val_acc: 0.9565\n",
      "Epoch 2/5\n",
      "56000/56000 [==============================] - 2s 37us/step - loss: 0.1094 - acc: 0.9673 - val_loss: 0.1088 - val_acc: 0.9659\n",
      "Epoch 3/5\n",
      "56000/56000 [==============================] - 2s 39us/step - loss: 0.0726 - acc: 0.9779 - val_loss: 0.0867 - val_acc: 0.9728\n",
      "Epoch 4/5\n",
      "56000/56000 [==============================] - 2s 39us/step - loss: 0.0495 - acc: 0.9844 - val_loss: 0.0963 - val_acc: 0.9704\n",
      "Epoch 5/5\n",
      "56000/56000 [==============================] - 2s 38us/step - loss: 0.0412 - acc: 0.9866 - val_loss: 0.0874 - val_acc: 0.9745\n"
     ]
    }
   ],
   "source": [
    "fit = model.fit(X_train, \n",
    "                Y_categorical_train, \n",
    "                batch_size = 128, \n",
    "                epochs = 5, \n",
    "                validation_data = (X_test, Y_categorical_test),\n",
    "                callbacks = [tb_cd])"
   ]
  },
  {
   "cell_type": "code",
   "execution_count": 16,
   "metadata": {},
   "outputs": [
    {
     "data": {
      "image/png": "[encoded data removed]",
      "text/plain": [
       "<matplotlib.figure.Figure at 0x1585ff940>"
      ]
     },
     "metadata": {},
     "output_type": "display_data"
    }
   ],
   "source": [
    "plt.plot(fit.history['loss'], label = 'loss')\n",
    "plt.plot(fit.history['val_loss'], label = 'val_loss')\n",
    "plt.legend()\n",
    "plt.show()"
   ]
  },
  {
   "cell_type": "code",
   "execution_count": 17,
   "metadata": {},
   "outputs": [],
   "source": [
    "predicted = model.predict(X_test)"
   ]
  },
  {
   "cell_type": "code",
   "execution_count": 18,
   "metadata": {},
   "outputs": [],
   "source": [
    "i_predicted = np.argmax(predicted,axis = 1)"
   ]
  },
  {
   "cell_type": "code",
   "execution_count": 19,
   "metadata": {},
   "outputs": [],
   "source": [
    "acc = np.mean(i_predicted == Y_test)"
   ]
  },
  {
   "cell_type": "code",
   "execution_count": 20,
   "metadata": {},
   "outputs": [
    {
     "data": {
      "text/plain": [
       "0.9745"
      ]
     },
     "execution_count": 20,
     "metadata": {},
     "output_type": "execute_result"
    }
   ],
   "source": [
    "acc"
   ]
  },
  {
   "cell_type": "markdown",
   "metadata": {},
   "source": [
    "## CNN"
   ]
  },
  {
   "cell_type": "code",
   "execution_count": 21,
   "metadata": {},
   "outputs": [],
   "source": [
    "from keras.layers.convolutional import Conv2D, MaxPooling2D\n",
    "from keras.layers import Flatten, Activation, BatchNormalization, Dropout\n",
    "from keras.initializers import glorot_uniform"
   ]
  },
  {
   "cell_type": "code",
   "execution_count": 22,
   "metadata": {},
   "outputs": [],
   "source": [
    "X_2d = X_train.reshape(-1, 28, 28)\n",
    "X_shape = (28, 28, 1)"
   ]
  },
  {
   "cell_type": "code",
   "execution_count": 23,
   "metadata": {},
   "outputs": [],
   "source": [
    "X_cinput = Input(shape = X_shape)\n",
    "Y_coutput = Conv2D(filters = 16, kernel_size = (4, 4), strides = (2, 2), kernel_initializer = glorot_uniform(seed = 0), activation = 'relu')(X_cinput)\n",
    "Y_coutput = BatchNormalization(axis = 3)(Y_coutput)\n",
    "Y_coutput = Activation('relu')(Y_coutput)\n",
    "Y_coutput = MaxPooling2D((2, 2), strides = (2, 2))(Y_coutput)\n",
    "Y_coutput = Dropout(rate = 0.5)(Y_coutput)\n",
    "Y_coutput = Conv2D(filters = 16, kernel_size = (4, 4), strides = (2, 2), kernel_initializer = glorot_uniform(seed = 0), activation = 'relu')(X_cinput)\n",
    "Y_coutput = BatchNormalization(axis = 3)(Y_coutput)\n",
    "Y_coutput = Activation('relu')(Y_coutput)\n",
    "Y_coutput = Dropout(rate = 0.5)(Y_coutput)\n",
    "Y_coutput = Flatten()(Y_coutput)\n",
    "Y_coutput = Dense(units = num_class, activation = 'softmax')(Y_coutput)"
   ]
  },
  {
   "cell_type": "code",
   "execution_count": 24,
   "metadata": {},
   "outputs": [],
   "source": [
    "model = Model(inputs = X_cinput, outputs = Y_coutput)\n",
    "model.compile(loss = 'categorical_crossentropy', optimizer = Adam(lr = 0.01), metrics = ['accuracy'])"
   ]
  },
  {
   "cell_type": "code",
   "execution_count": 25,
   "metadata": {},
   "outputs": [],
   "source": [
    "X_train_conv = X_train.reshape(-1, 28, 28, 1)\n",
    "X_test_conv = X_test.reshape(-1, 28, 28, 1)"
   ]
  },
  {
   "cell_type": "code",
   "execution_count": 26,
   "metadata": {},
   "outputs": [
    {
     "data": {
      "text/plain": [
       "(56000, 28, 28, 1)"
      ]
     },
     "execution_count": 26,
     "metadata": {},
     "output_type": "execute_result"
    }
   ],
   "source": [
    "X_train_conv.shape"
   ]
  },
  {
   "cell_type": "code",
   "execution_count": 27,
   "metadata": {},
   "outputs": [
    {
     "name": "stdout",
     "output_type": "stream",
     "text": [
      "Train on 56000 samples, validate on 14000 samples\n",
      "Epoch 1/5\n",
      "56000/56000 [==============================] - 9s 164us/step - loss: 0.2673 - acc: 0.9215 - val_loss: 0.1149 - val_acc: 0.9653\n",
      "Epoch 2/5\n",
      "56000/56000 [==============================] - 8s 149us/step - loss: 0.1507 - acc: 0.9543 - val_loss: 0.0933 - val_acc: 0.9729\n",
      "Epoch 3/5\n",
      "56000/56000 [==============================] - 8s 149us/step - loss: 0.1358 - acc: 0.9586 - val_loss: 0.0933 - val_acc: 0.9721\n",
      "Epoch 4/5\n",
      "56000/56000 [==============================] - 9s 153us/step - loss: 0.1271 - acc: 0.9598 - val_loss: 0.0882 - val_acc: 0.9724\n",
      "Epoch 5/5\n",
      "56000/56000 [==============================] - 9s 153us/step - loss: 0.1209 - acc: 0.9630 - val_loss: 0.0780 - val_acc: 0.9760\n"
     ]
    }
   ],
   "source": [
    "fit = model.fit(X_train_conv, Y_categorical_train, batch_size = 128, epochs = 5, validation_data = (X_test_conv, Y_categorical_test))"
   ]
  },
  {
   "cell_type": "code",
   "execution_count": 152,
   "metadata": {},
   "outputs": [
    {
     "data": {
      "image/png": "[encoded data removed]",
      "text/plain": [
       "<matplotlib.figure.Figure at 0x15d52b828>"
      ]
     },
     "metadata": {},
     "output_type": "display_data"
    }
   ],
   "source": [
    "plt.plot(fit.history['loss'], label = 'loss')\n",
    "plt.plot(fit.history['val_loss'], label = 'val_loss')\n",
    "plt.legend()\n",
    "plt.show()"
   ]
  },
  {
   "cell_type": "code",
   "execution_count": 153,
   "metadata": {},
   "outputs": [],
   "source": [
    "cpredicted = model.predict(X_test_conv)"
   ]
  },
  {
   "cell_type": "code",
   "execution_count": 154,
   "metadata": {},
   "outputs": [],
   "source": [
    "i_cpredicted = np.argmax(cpredicted,axis = 1)"
   ]
  },
  {
   "cell_type": "code",
   "execution_count": 155,
   "metadata": {},
   "outputs": [],
   "source": [
    "acc = np.mean(i_cpredicted == Y_test)"
   ]
  },
  {
   "cell_type": "code",
   "execution_count": 156,
   "metadata": {},
   "outputs": [
    {
     "data": {
      "text/plain": [
       "0.9797857142857143"
      ]
     },
     "execution_count": 156,
     "metadata": {},
     "output_type": "execute_result"
    }
   ],
   "source": [
    "acc"
   ]
  },
  {
   "cell_type": "code",
   "execution_count": null,
   "metadata": {},
   "outputs": [],
   "source": []
  }
 ],
 "metadata": {
  "kernelspec": {
   "display_name": "Python 3",
   "language": "python",
   "name": "python3"
  },
  "language_info": {
   "codemirror_mode": {
    "name": "ipython",
    "version": 3
   },
   "file_extension": ".py",
   "mimetype": "text/x-python",
   "name": "python",
   "nbconvert_exporter": "python",
   "pygments_lexer": "ipython3",
   "version": "3.6.4"
  }
 },
 "nbformat": 4,
 "nbformat_minor": 2
}
