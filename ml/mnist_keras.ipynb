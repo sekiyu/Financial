{
 "cells": [
  {
   "cell_type": "code",
   "execution_count": 1,
   "metadata": {},
   "outputs": [],
   "source": [
    "from sklearn.datasets import fetch_mldata\n",
    "mnist = fetch_mldata('MNIST original', data_home='.')"
   ]
  },
  {
   "cell_type": "code",
   "execution_count": 2,
   "metadata": {},
   "outputs": [
    {
     "name": "stdout",
     "output_type": "stream",
     "text": [
      "<class 'sklearn.utils.Bunch'>\n",
      "dict_keys(['DESCR', 'COL_NAMES', 'target', 'data'])\n"
     ]
    }
   ],
   "source": [
    "print(type(mnist))\n",
    "print(mnist.keys())"
   ]
  },
  {
   "cell_type": "code",
   "execution_count": 3,
   "metadata": {},
   "outputs": [
    {
     "name": "stdout",
     "output_type": "stream",
     "text": [
      "(70000, 784)\n",
      "(70000,)\n"
     ]
    }
   ],
   "source": [
    "mnist_data = mnist.data / 255\n",
    "mnist_label = mnist.target\n",
    "\n",
    "print(mnist_data.shape)\n",
    "print(mnist_label.shape)"
   ]
  },
  {
   "cell_type": "code",
   "execution_count": 4,
   "metadata": {},
   "outputs": [],
   "source": [
    "import matplotlib.pyplot as plt\n",
    "%matplotlib inline"
   ]
  },
  {
   "cell_type": "code",
   "execution_count": 5,
   "metadata": {},
   "outputs": [
    {
     "name": "stdout",
     "output_type": "stream",
     "text": [
      "label =  3.0\n"
     ]
    },
    {
     "data": {
      "image/png": "[encoded data removed]",
      "text/plain": [
       "<matplotlib.figure.Figure at 0x10d8b0dd8>"
      ]
     },
     "metadata": {},
     "output_type": "display_data"
    }
   ],
   "source": [
    "i = 20000\n",
    "print('label = ', mnist_label[i])\n",
    "plt.imshow(mnist_data[i].reshape(28,28),cmap='gray_r')\n",
    "plt.show()"
   ]
  },
  {
   "cell_type": "code",
   "execution_count": 7,
   "metadata": {},
   "outputs": [],
   "source": [
    "from sklearn.model_selection import train_test_split\n",
    "X_train, X_test, Y_train, Y_test = train_test_split(mnist_data, mnist_label, test_size = 0.2)"
   ]
  },
  {
   "cell_type": "code",
   "execution_count": 19,
   "metadata": {},
   "outputs": [],
   "source": [
    "from keras.utils import np_utils\n",
    "Y_categorical_train = np_utils.to_categorical(Y_train)\n",
    "Y_categorical_test = np_utils.to_categorical(Y_test)"
   ]
  },
  {
   "cell_type": "code",
   "execution_count": 8,
   "metadata": {},
   "outputs": [
    {
     "name": "stderr",
     "output_type": "stream",
     "text": [
      "Using TensorFlow backend.\n"
     ]
    }
   ],
   "source": [
    "import numpy as np\n",
    "from keras.models import Model\n",
    "from keras.layers import Dense, Input, Dropout\n",
    "from keras.optimizers import Adam, SGD"
   ]
  },
  {
   "cell_type": "code",
   "execution_count": 29,
   "metadata": {},
   "outputs": [],
   "source": [
    "num_length = X_train.shape[1]\n",
    "num_class = Y_categorical_train.shape[1]\n",
    "num_hidden = 200\n",
    "X_input = Input(shape = (num_length, ))\n",
    "Y_output = Dense(units = num_hidden, activation = 'sigmoid')(X_input)\n",
    "#Y_output = Dropout(0.5)(Y_output)\n",
    "Y_output = Dense(units = num_class, activation = 'softmax')(Y_output)"
   ]
  },
  {
   "cell_type": "code",
   "execution_count": 30,
   "metadata": {},
   "outputs": [],
   "source": [
    "model = Model(inputs = X_input, outputs = Y_output)\n",
    "model.compile(loss = 'categorical_crossentropy', optimizer = Adam(lr = 0.01), metrics = ['accuracy'])"
   ]
  },
  {
   "cell_type": "code",
   "execution_count": 31,
   "metadata": {},
   "outputs": [
    {
     "name": "stdout",
     "output_type": "stream",
     "text": [
      "Train on 56000 samples, validate on 14000 samples\n",
      "Epoch 1/5\n",
      "56000/56000 [==============================] - 2s 40us/step - loss: 0.2632 - acc: 0.9215 - val_loss: 0.1438 - val_acc: 0.9567\n",
      "Epoch 2/5\n",
      "56000/56000 [==============================] - 2s 34us/step - loss: 0.1097 - acc: 0.9661 - val_loss: 0.1192 - val_acc: 0.9634\n",
      "Epoch 3/5\n",
      "56000/56000 [==============================] - 2s 34us/step - loss: 0.0701 - acc: 0.9776 - val_loss: 0.0912 - val_acc: 0.9725\n",
      "Epoch 4/5\n",
      "56000/56000 [==============================] - 2s 34us/step - loss: 0.0504 - acc: 0.9841 - val_loss: 0.0861 - val_acc: 0.9732\n",
      "Epoch 5/5\n",
      "56000/56000 [==============================] - 2s 34us/step - loss: 0.0391 - acc: 0.9874 - val_loss: 0.1042 - val_acc: 0.9709\n"
     ]
    }
   ],
   "source": [
    "fit = model.fit(X_train, Y_categorical_train, batch_size = 128, epochs = 5, validation_data = (X_test, Y_categorical_test))"
   ]
  },
  {
   "cell_type": "code",
   "execution_count": 32,
   "metadata": {},
   "outputs": [
    {
     "data": {
      "image/png": "[encoded data removed]",
      "text/plain": [
       "<matplotlib.figure.Figure at 0x155bc1278>"
      ]
     },
     "metadata": {},
     "output_type": "display_data"
    }
   ],
   "source": [
    "plt.plot(fit.history['loss'], label = 'loss')\n",
    "plt.plot(fit.history['val_loss'], label = 'val_loss')\n",
    "plt.legend()\n",
    "plt.show()"
   ]
  },
  {
   "cell_type": "code",
   "execution_count": 33,
   "metadata": {},
   "outputs": [],
   "source": [
    "predicted = model.predict(X_test)"
   ]
  },
  {
   "cell_type": "code",
   "execution_count": 38,
   "metadata": {},
   "outputs": [],
   "source": [
    "i_predicted = np.argmax(predicted,axis = 1)"
   ]
  },
  {
   "cell_type": "code",
   "execution_count": 39,
   "metadata": {},
   "outputs": [],
   "source": [
    "acc = np.mean(i_predicted == Y_test)"
   ]
  },
  {
   "cell_type": "code",
   "execution_count": 41,
   "metadata": {},
   "outputs": [
    {
     "data": {
      "text/plain": [
       "0.9709285714285715"
      ]
     },
     "execution_count": 41,
     "metadata": {},
     "output_type": "execute_result"
    }
   ],
   "source": [
    "acc"
   ]
  },
  {
   "cell_type": "markdown",
   "metadata": {},
   "source": [
    "## CNN"
   ]
  },
  {
   "cell_type": "code",
   "execution_count": 127,
   "metadata": {},
   "outputs": [],
   "source": [
    "from keras.layers.convolutional import Conv2D, MaxPooling2D\n",
    "from keras.layers import Flatten, Activation, BatchNormalization, Dropout\n",
    "from keras.initializers import glorot_uniform"
   ]
  },
  {
   "cell_type": "code",
   "execution_count": 51,
   "metadata": {},
   "outputs": [],
   "source": [
    "X_2d = X_train.reshape(-1, 28, 28)\n",
    "X_shape = (28, 28, 1)"
   ]
  },
  {
   "cell_type": "code",
   "execution_count": 146,
   "metadata": {},
   "outputs": [],
   "source": [
    "X_cinput = Input(shape = X_shape)\n",
    "Y_coutput = Conv2D(filters = 16, kernel_size = (4, 4), strides = (2, 2), kernel_initializer = glorot_uniform(seed = 0), activation = 'relu')(X_cinput)\n",
    "Y_coutput = BatchNormalization(axis = 3)(Y_coutput)\n",
    "Y_coutput = Activation('relu')(Y_coutput)\n",
    "Y_coutput = MaxPooling2D((2, 2), strides = (2, 2))(Y_coutput)\n",
    "Y_coutput = Dropout(rate = 0.5)(Y_coutput)\n",
    "Y_coutput = Conv2D(filters = 16, kernel_size = (4, 4), strides = (2, 2), kernel_initializer = glorot_uniform(seed = 0), activation = 'relu')(X_cinput)\n",
    "Y_coutput = BatchNormalization(axis = 3)(Y_coutput)\n",
    "Y_coutput = Activation('relu')(Y_coutput)\n",
    "Y_coutput = Dropout(rate = 0.5)(Y_coutput)\n",
    "Y_coutput = Flatten()(Y_coutput)\n",
    "Y_coutput = Dense(units = num_class, activation = 'softmax')(Y_coutput)"
   ]
  },
  {
   "cell_type": "code",
   "execution_count": 147,
   "metadata": {},
   "outputs": [],
   "source": [
    "model = Model(inputs = X_cinput, outputs = Y_coutput)\n",
    "model.compile(loss = 'categorical_crossentropy', optimizer = Adam(lr = 0.01), metrics = ['accuracy'])"
   ]
  },
  {
   "cell_type": "code",
   "execution_count": 148,
   "metadata": {},
   "outputs": [],
   "source": [
    "X_train_conv = X_train.reshape(-1, 28, 28, 1)\n",
    "X_test_conv = X_test.reshape(-1, 28, 28, 1)"
   ]
  },
  {
   "cell_type": "code",
   "execution_count": 149,
   "metadata": {},
   "outputs": [
    {
     "data": {
      "text/plain": [
       "(56000, 28, 28, 1)"
      ]
     },
     "execution_count": 149,
     "metadata": {},
     "output_type": "execute_result"
    }
   ],
   "source": [
    "X_train_conv.shape"
   ]
  },
  {
   "cell_type": "code",
   "execution_count": 151,
   "metadata": {},
   "outputs": [
    {
     "name": "stdout",
     "output_type": "stream",
     "text": [
      "Train on 56000 samples, validate on 14000 samples\n",
      "Epoch 1/5\n",
      "56000/56000 [==============================] - 9s 152us/step - loss: 0.1075 - acc: 0.9668 - val_loss: 0.0704 - val_acc: 0.9801\n",
      "Epoch 2/5\n",
      "56000/56000 [==============================] - 8s 151us/step - loss: 0.1040 - acc: 0.9669 - val_loss: 0.0678 - val_acc: 0.9820\n",
      "Epoch 3/5\n",
      "56000/56000 [==============================] - 8s 152us/step - loss: 0.1000 - acc: 0.9686 - val_loss: 0.0677 - val_acc: 0.9817\n",
      "Epoch 4/5\n",
      "56000/56000 [==============================] - 9s 153us/step - loss: 0.0992 - acc: 0.9689 - val_loss: 0.0678 - val_acc: 0.9818\n",
      "Epoch 5/5\n",
      "56000/56000 [==============================] - 9s 153us/step - loss: 0.1012 - acc: 0.9679 - val_loss: 0.0694 - val_acc: 0.9798\n"
     ]
    }
   ],
   "source": [
    "fit = model.fit(X_train_conv, Y_categorical_train, batch_size = 128, epochs = 5, validation_data = (X_test_conv, Y_categorical_test))"
   ]
  },
  {
   "cell_type": "code",
   "execution_count": 152,
   "metadata": {},
   "outputs": [
    {
     "data": {
      "image/png": "[encoded data removed]",
      "text/plain": [
       "<matplotlib.figure.Figure at 0x15d52b828>"
      ]
     },
     "metadata": {},
     "output_type": "display_data"
    }
   ],
   "source": [
    "plt.plot(fit.history['loss'], label = 'loss')\n",
    "plt.plot(fit.history['val_loss'], label = 'val_loss')\n",
    "plt.legend()\n",
    "plt.show()"
   ]
  },
  {
   "cell_type": "code",
   "execution_count": 153,
   "metadata": {},
   "outputs": [],
   "source": [
    "cpredicted = model.predict(X_test_conv)"
   ]
  },
  {
   "cell_type": "code",
   "execution_count": 154,
   "metadata": {},
   "outputs": [],
   "source": [
    "i_cpredicted = np.argmax(cpredicted,axis = 1)"
   ]
  },
  {
   "cell_type": "code",
   "execution_count": 155,
   "metadata": {},
   "outputs": [],
   "source": [
    "acc = np.mean(i_cpredicted == Y_test)"
   ]
  },
  {
   "cell_type": "code",
   "execution_count": 156,
   "metadata": {},
   "outputs": [
    {
     "data": {
      "text/plain": [
       "0.9797857142857143"
      ]
     },
     "execution_count": 156,
     "metadata": {},
     "output_type": "execute_result"
    }
   ],
   "source": [
    "acc"
   ]
  },
  {
   "cell_type": "code",
   "execution_count": null,
   "metadata": {},
   "outputs": [],
   "source": []
  }
 ],
 "metadata": {
  "kernelspec": {
   "display_name": "Python 3",
   "language": "python",
   "name": "python3"
  },
  "language_info": {
   "codemirror_mode": {
    "name": "ipython",
    "version": 3
   },
   "file_extension": ".py",
   "mimetype": "text/x-python",
   "name": "python",
   "nbconvert_exporter": "python",
   "pygments_lexer": "ipython3",
   "version": "3.6.4"
  }
 },
 "nbformat": 4,
 "nbformat_minor": 2
}
