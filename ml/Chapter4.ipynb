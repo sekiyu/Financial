{
 "cells": [
  {
   "cell_type": "code",
   "execution_count": 1,
   "metadata": {},
   "outputs": [
    {
     "name": "stderr",
     "output_type": "stream",
     "text": [
      "/Users/yuseki/.pyenv/versions/3.6.4/lib/python3.6/importlib/_bootstrap.py:219: RuntimeWarning: numpy.dtype size changed, may indicate binary incompatibility. Expected 96, got 88\n",
      "  return f(*args, **kwds)\n"
     ]
    }
   ],
   "source": [
    "import numpy as np\n",
    "import pandas as pd\n",
    "from sklearn.cluster import KMeans\n",
    "from sklearn.metrics import silhouette_samples"
   ]
  },
  {
   "cell_type": "markdown",
   "metadata": {},
   "source": [
    "### SNIPPET4.1"
   ]
  },
  {
   "cell_type": "code",
   "execution_count": 3,
   "metadata": {},
   "outputs": [],
   "source": [
    "def clusterKMeansBase(corr0, maxNumClusters=10, n_init=10):\n",
    "    x = ((1-corr0.fillna(0))/2.)**0.5\n",
    "    silh = pd.Series()\n",
    "    for init in range(n_init):\n",
    "        for i in xrange(2, maxNumClusters+1):\n",
    "            kmeans_ = KMeans(n_clusters=i, n_jobs=1, n_init=1)\n",
    "            kmeans_ = kmeans.fit(x)\n",
    "            silh_ = silhouette_samples(x, kmeans_.labels_)\n",
    "            stat = (silh_.mean() / silh_.std(), silh.mean() / silh.std())\n",
    "            if np.isnan(stat[1]) or stat[0] > stat[1]:\n",
    "                silh, kmeans = silh_, kmeans_\n",
    "    newIdx = np.argsort(kmeans.labels_)\n",
    "    corr1 = corr0.iloc[newIdx]\n",
    "    \n",
    "    corr1 = corr1.iloc[:, newIdx]\n",
    "    clstrs = {\n",
    "        i : corr0.columns[np.where(kmeans.labels_==i)[0]].tolist() for i in np.unique(kmeans.labels_)\n",
    "    }\n",
    "    silh = pd.Series(silh, index = x.index)\n",
    "    return corr1, clstrs, silh"
   ]
  },
  {
   "cell_type": "markdown",
   "metadata": {},
   "source": [
    "### SNIPPET4.2"
   ]
  },
  {
   "cell_type": "code",
   "execution_count": null,
   "metadata": {},
   "outputs": [],
   "source": []
  }
 ],
 "metadata": {
  "kernelspec": {
   "display_name": "Python 3",
   "language": "python",
   "name": "python3"
  },
  "language_info": {
   "codemirror_mode": {
    "name": "ipython",
    "version": 3
   },
   "file_extension": ".py",
   "mimetype": "text/x-python",
   "name": "python",
   "nbconvert_exporter": "python",
   "pygments_lexer": "ipython3",
   "version": "3.6.4"
  }
 },
 "nbformat": 4,
 "nbformat_minor": 2
}
