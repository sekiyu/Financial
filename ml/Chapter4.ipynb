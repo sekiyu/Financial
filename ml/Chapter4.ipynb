{
 "cells": [
  {
   "cell_type": "code",
   "execution_count": 8,
   "metadata": {},
   "outputs": [],
   "source": [
    "import numpy as np\n",
    "import pandas as pd\n",
    "from sklearn.cluster import KMeans\n",
    "from sklearn.metrics import silhouette_samples\n",
    "from scipy.linalg import block_diag\n",
    "from sklearn.utils import check_random_state"
   ]
  },
  {
   "cell_type": "markdown",
   "metadata": {},
   "source": [
    "### SNIPPET4.1"
   ]
  },
  {
   "cell_type": "code",
   "execution_count": 43,
   "metadata": {},
   "outputs": [],
   "source": [
    "def clusterKMeansBase(corr0, maxNumClusters=10, n_init=10):\n",
    "    x = ((1-corr0.fillna(0))/2.)**0.5\n",
    "    silh = pd.Series()\n",
    "    for init in range(n_init):\n",
    "        for i in range(2, maxNumClusters+1):\n",
    "            kmeans_ = KMeans(n_clusters=i, n_jobs=1, n_init=1)\n",
    "            kmeans_ = kmeans_.fit(x)\n",
    "            silh_ = silhouette_samples(x, kmeans_.labels_)\n",
    "            stat = (silh_.mean() / silh_.std(), silh.mean() / silh.std())\n",
    "            if np.isnan(stat[1]) or stat[0] > stat[1]:\n",
    "                silh, kmeans = silh_, kmeans_\n",
    "    newIdx = np.argsort(kmeans.labels_)\n",
    "    corr1 = corr0.iloc[newIdx]\n",
    "    \n",
    "    corr1 = corr1.iloc[:, newIdx]\n",
    "    clstrs = {\n",
    "        i : corr0.columns[np.where(kmeans.labels_==i)[0]].tolist() for i in np.unique(kmeans.labels_)\n",
    "    }\n",
    "    silh = pd.Series(silh, index = x.index)\n",
    "    return corr1, clstrs, silh"
   ]
  },
  {
   "cell_type": "markdown",
   "metadata": {},
   "source": [
    "### SNIPPET4.2"
   ]
  },
  {
   "cell_type": "code",
   "execution_count": 44,
   "metadata": {},
   "outputs": [],
   "source": [
    "def makeNewOutputs(corr0, clstrs, clstrs2):\n",
    "    clstrsNew = {}\n",
    "    for i in clstrs.keys():\n",
    "        clstrsNew[len(clstrsNew.keys())] = list(clstrs[i])\n",
    "    for i in clstrs2.keys():\n",
    "        clstrsNew[len(clstrsNew.keys())] = list(clstrs2[i])\n",
    "    newIdx = [ j for i in clstrsNew for j in clstrsNew[i]]\n",
    "    corrNew = corr0.loc[newIdx, newIdx]\n",
    "    x = ((1 - corr0.fillna(0))/2.)**0.5\n",
    "    kmeans_labels = np.zeros(len(x.columns))\n",
    "    for i in clstrsNew.keys():\n",
    "        idxs = [x.index.get_loc(k) for k in clstrsNew[i]]\n",
    "        kmeans_labels[idxs] = i\n",
    "    silhNew = pd.Series(silhouette_samples(x, kmeans.labels),\n",
    "                       index = x.index)\n",
    "    return corrNew, clstrsNew, silhNew"
   ]
  },
  {
   "cell_type": "code",
   "execution_count": 85,
   "metadata": {},
   "outputs": [],
   "source": [
    "def clusterKMeansTop(corr0, maxNumClusters = None, n_init = 10):\n",
    "    if maxNumClusters == None:\n",
    "        maxNumClusters = corr0.shape[1]-1\n",
    "    corr1, clstrs, silh = clusterKMeansBase(corr0, \n",
    "                                            maxNumClusters = min(maxNumClusters, corr0.shape[1]-1),\n",
    "                                            n_init=n_init)\n",
    "    clusterTstats = {i:np.mean(silh[clstrs[i]]) / np.std(silh[clstrs[i]]) for i in clstrs.keys()}\n",
    "    tStatMean = sum(clusterTstats.values()) / len(clusterTstats)\n",
    "    redoClusters = [ i for i in clusterTstats.keys() if clusterTstats[i] < tStatMean]\n",
    "    if len(redoClusters) <= 1:\n",
    "        return corr1, clstrs, silh\n",
    "    else:\n",
    "        keysRedo = [j for i in redoClusters for j in clstrs[i]]\n",
    "        corrTmp = corr0.loc[keysRedo, keysRedo]\n",
    "        tStatMean = np.mean([clusterTstats[i] for i in redoClusters])\n",
    "        corr2, clstrs2, silh2 = clusterKMeansTop(corrTmp, maxNumClusters=min(maxNumClusters, corrTmp.shape[1]-1), n_init=n_init)\n",
    "        corrNew, clstrsNew, silhNew = makeNewOutputs(corr0, \n",
    "                                                     {i:clstrs[i] for i in clstrs.keys() if i not in redoClusters},\n",
    "                                                     clstrs2)\n",
    "        newTstatMean = np.mean([np.mean(silhNew[clstrsNew[i]])/\n",
    "                               np.std(silhNew[clstrsNew[i]]) for i in clstrsNew.keys()])\n",
    "        if newTstatMean <= tStatMean:\n",
    "            return corr1, clstrs, silh\n",
    "        else:\n",
    "            return corrNew, clstrsNew, silhNew\n",
    "    \n",
    "                                   "
   ]
  },
  {
   "cell_type": "markdown",
   "metadata": {},
   "source": [
    "### SNIPPET 4.3"
   ]
  },
  {
   "cell_type": "code",
   "execution_count": 86,
   "metadata": {},
   "outputs": [],
   "source": [
    "def getCovSub(nObs, nCols, sigma, random_state = None):\n",
    "    rng = check_random_state(random_state)\n",
    "    if nCols == 1:\n",
    "        return np.ones((1,1))\n",
    "    ar0 = rng.normal(size = (nObs, 1))\n",
    "    ar0 = np.repeat(ar0, nCols, axis = 1)\n",
    "    ar0 += rng.normal(scale = sigma, size = ar0.shape)\n",
    "    ar0 = np.cov(ar0, rowvar=False)\n",
    "    return ar0"
   ]
  },
  {
   "cell_type": "code",
   "execution_count": 87,
   "metadata": {},
   "outputs": [],
   "source": [
    "def getRndBlockCov(nCols, nBlocks, minBlockSize = 1, sigma = 1., random_state = None):\n",
    "    rng = check_random_state(random_state)\n",
    "    parts = rng.choice(range(1, nCols - (minBlockSize-1)*nBlocks), nBlocks-1, replace = False)\n",
    "    parts.sort()\n",
    "    parts = np.append(parts, nCols - (minBlockSize - 1) * nBlocks)\n",
    "    parts = np.append(parts[0], np.diff(parts)) - 1 + minBlockSize\n",
    "    cov = None\n",
    "    for nCols_ in parts:\n",
    "        cov_ = getCovSub(int(max(nCols_ * (nCols_ + 1) / 2., 100)), nCols_, sigma, random_state=rng)\n",
    "        if cov is None:\n",
    "            cov = cov_.copy()\n",
    "        else:\n",
    "            cov = block_diag(cov, cov_)    \n",
    "    return cov"
   ]
  },
  {
   "cell_type": "code",
   "execution_count": 88,
   "metadata": {},
   "outputs": [],
   "source": [
    "def randomBlockCorr(nCols, nBlocks, random_state = None, minBlockSize = 1):\n",
    "    rng = check_random_state(random_state)\n",
    "    cov0 = getRndBlockCov(nCols, nBlocks, minBlockSize=minBlockSize, sigma = 0.5, random_state=rng)\n",
    "    cov1 = getRndBlockCov(nCols, 1, minBlockSize=minBlockSize, sigma = 1., random_state=rng)\n",
    "    cov0 += cov1\n",
    "    corr0 = cov2corr(cov0)\n",
    "    corr0 = pd.DataFrame(corr0)\n",
    "    return corr0"
   ]
  },
  {
   "cell_type": "code",
   "execution_count": 89,
   "metadata": {},
   "outputs": [],
   "source": [
    "def cov2corr(cov):\n",
    "    std = np.sqrt(np.diag(cov))\n",
    "    corr = cov / np.outer(std, std)\n",
    "    corr[corr < -1], corr[corr > 1] = -1, 1\n",
    "    return corr"
   ]
  },
  {
   "cell_type": "code",
   "execution_count": 90,
   "metadata": {},
   "outputs": [],
   "source": [
    "corr = randomBlockCorr(30, 6, )"
   ]
  },
  {
   "cell_type": "code",
   "execution_count": 91,
   "metadata": {
    "scrolled": true
   },
   "outputs": [
    {
     "data": {
      "text/plain": [
       "<matplotlib.axes._subplots.AxesSubplot at 0x10dfc5be0>"
      ]
     },
     "execution_count": 91,
     "metadata": {},
     "output_type": "execute_result"
    },
    {
     "data": {
      "image/png": "[encoded data removed]",
      "text/plain": [
       "<matplotlib.figure.Figure at 0x10dffb0b8>"
      ]
     },
     "metadata": {},
     "output_type": "display_data"
    }
   ],
   "source": [
    "import seaborn as sns\n",
    "%matplotlib inline\n",
    "sns.heatmap(corr, cmap=\"Wistia\")"
   ]
  },
  {
   "cell_type": "code",
   "execution_count": 93,
   "metadata": {
    "scrolled": true
   },
   "outputs": [
    {
     "name": "stderr",
     "output_type": "stream",
     "text": [
      "/Users/yuseki/.pyenv/versions/3.6.4/lib/python3.6/site-packages/ipykernel_launcher.py:7: RuntimeWarning: invalid value encountered in double_scalars\n",
      "  import sys\n"
     ]
    }
   ],
   "source": [
    "corrNew, clstr, silh = clusterKMeansTop(corr)"
   ]
  },
  {
   "cell_type": "code",
   "execution_count": 95,
   "metadata": {},
   "outputs": [
    {
     "data": {
      "text/plain": [
       "<matplotlib.axes._subplots.AxesSubplot at 0x10dffb208>"
      ]
     },
     "execution_count": 95,
     "metadata": {},
     "output_type": "execute_result"
    },
    {
     "data": {
      "image/png": "[encoded data removed]",
      "text/plain": [
       "<matplotlib.figure.Figure at 0x10df53d68>"
      ]
     },
     "metadata": {},
     "output_type": "display_data"
    }
   ],
   "source": [
    "sns.heatmap(corrNew, cmap=\"Wistia\")"
   ]
  },
  {
   "cell_type": "code",
   "execution_count": 96,
   "metadata": {
    "scrolled": true
   },
   "outputs": [
    {
     "data": {
      "text/plain": [
       "{0: [2, 3, 4, 5, 6, 7, 8, 9, 10, 11, 12, 13],\n",
       " 1: [21, 22, 23, 24, 25, 26, 27, 28, 29],\n",
       " 2: [14, 15, 16],\n",
       " 3: [18, 19, 20],\n",
       " 4: [17],\n",
       " 5: [0, 1]}"
      ]
     },
     "execution_count": 96,
     "metadata": {},
     "output_type": "execute_result"
    }
   ],
   "source": [
    "clstr"
   ]
  },
  {
   "cell_type": "code",
   "execution_count": 98,
   "metadata": {},
   "outputs": [],
   "source": [
    "path = r\"https://www.mof.go.jp/english/jgbs/reference/interest_rate/historical/jgbcme_all.csv\"\n",
    "raw = pd.read_csv(path, header=1, index_col=\"Date\")"
   ]
  },
  {
   "cell_type": "code",
   "execution_count": 133,
   "metadata": {},
   "outputs": [],
   "source": [
    "# columns = ['2Y', '5Y', '7Y', '10Y', '15Y', '20Y', '30Y', '40Y']\n",
    "columns = ['1Y', '2Y', '3Y', '4Y', '5Y', '6Y', '7Y', '8Y', '9Y', '10Y', '15Y', '20Y', '25Y', '30Y', '40Y']\n",
    "data = np.array(raw[columns][(raw.index > '2012/3/1') & (raw.index < '2015/6/1')], dtype = np.float64)"
   ]
  },
  {
   "cell_type": "code",
   "execution_count": 134,
   "metadata": {},
   "outputs": [],
   "source": [
    "cov = np.cov(data.T)\n",
    "corr0 = pd.DataFrame(cov2corr(cov), columns = columns)\n",
    "corr0.index = columns"
   ]
  },
  {
   "cell_type": "code",
   "execution_count": 135,
   "metadata": {},
   "outputs": [
    {
     "data": {
      "text/plain": [
       "<matplotlib.axes._subplots.AxesSubplot at 0x10e7c3c50>"
      ]
     },
     "execution_count": 135,
     "metadata": {},
     "output_type": "execute_result"
    },
    {
     "data": {
      "image/png": "[encoded data removed]",
      "text/plain": [
       "<matplotlib.figure.Figure at 0x10ee4bda0>"
      ]
     },
     "metadata": {},
     "output_type": "display_data"
    }
   ],
   "source": [
    "sns.heatmap(corr0, cmap=\"Wistia\")"
   ]
  },
  {
   "cell_type": "code",
   "execution_count": 136,
   "metadata": {},
   "outputs": [],
   "source": [
    "corr1, clstr1, silh1 = clusterKMeansTop(corr0)"
   ]
  },
  {
   "cell_type": "code",
   "execution_count": 137,
   "metadata": {},
   "outputs": [
    {
     "data": {
      "text/plain": [
       "{0: ['9Y', '10Y', '15Y', '20Y', '25Y', '30Y', '40Y'],\n",
       " 1: ['1Y', '2Y', '3Y', '4Y', '5Y', '6Y', '7Y', '8Y']}"
      ]
     },
     "execution_count": 137,
     "metadata": {},
     "output_type": "execute_result"
    }
   ],
   "source": [
    "clstr1"
   ]
  },
  {
   "cell_type": "code",
   "execution_count": null,
   "metadata": {},
   "outputs": [],
   "source": []
  }
 ],
 "metadata": {
  "kernelspec": {
   "display_name": "Python 3",
   "language": "python",
   "name": "python3"
  },
  "language_info": {
   "codemirror_mode": {
    "name": "ipython",
    "version": 3
   },
   "file_extension": ".py",
   "mimetype": "text/x-python",
   "name": "python",
   "nbconvert_exporter": "python",
   "pygments_lexer": "ipython3",
   "version": "3.6.4"
  }
 },
 "nbformat": 4,
 "nbformat_minor": 2
}
