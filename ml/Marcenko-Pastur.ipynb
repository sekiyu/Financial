{
 "cells": [
  {
   "cell_type": "code",
   "execution_count": 126,
   "metadata": {},
   "outputs": [],
   "source": [
    "import numpy as np\n",
    "import matplotlib.pyplot as plt\n",
    "import pandas as pd"
   ]
  },
  {
   "cell_type": "code",
   "execution_count": 50,
   "metadata": {},
   "outputs": [],
   "source": [
    "n = 500\n",
    "T = 2000\n",
    "sigma = 1\n",
    "x = np.random.normal(0, sigma, (T, n))"
   ]
  },
  {
   "cell_type": "code",
   "execution_count": 51,
   "metadata": {},
   "outputs": [],
   "source": [
    "C = np.dot(x.T, x) / T"
   ]
  },
  {
   "cell_type": "markdown",
   "metadata": {},
   "source": [
    "### Eigen values of normally distributed random variables"
   ]
  },
  {
   "cell_type": "code",
   "execution_count": 52,
   "metadata": {},
   "outputs": [],
   "source": [
    "w, v = np.linalg.eig(C)"
   ]
  },
  {
   "cell_type": "code",
   "execution_count": 111,
   "metadata": {},
   "outputs": [],
   "source": [
    "w.sort()"
   ]
  },
  {
   "cell_type": "code",
   "execution_count": null,
   "metadata": {},
   "outputs": [],
   "source": []
  },
  {
   "cell_type": "markdown",
   "metadata": {},
   "source": [
    "### Marcenko-Pastur Probability distribution function"
   ]
  },
  {
   "cell_type": "code",
   "execution_count": 93,
   "metadata": {},
   "outputs": [],
   "source": [
    "def mpPDF(t, n, sigma, pts = 20):\n",
    "    q = float(n) / t\n",
    "    lambdap = np.power(sigma * (1 + np.sqrt(q)), 2)\n",
    "    lambdan = np.power(sigma * (1 - np.sqrt(q)), 2)\n",
    "    x = np.linspace(lambdan, lambdap, pts)\n",
    "    y = q * np.sqrt((lambdap - x) * (x - lambdan)) / (2 * np.pi*x*np.power(sigma,2))\n",
    "    return (x, y)"
   ]
  },
  {
   "cell_type": "code",
   "execution_count": 113,
   "metadata": {},
   "outputs": [
    {
     "data": {
      "image/png": "[encoded data removed]",
      "text/plain": [
       "<matplotlib.figure.Figure at 0x111eb0f98>"
      ]
     },
     "metadata": {},
     "output_type": "display_data"
    }
   ],
   "source": [
    "fig, ax1 = plt.subplots()\n",
    "ax2 = ax1.twinx()\n",
    "ax1.hist(w, bins=20)\n",
    "ax2.plot(*mpPDF(T, n, sigma), 'g-', lw = 2)\n",
    "ax1.set_ylabel('Normal rnadom histgram', color='b')\n",
    "ax2.set_ylabel('Marcenko-Pastur', color='g')\n",
    "\n",
    "plt.show()"
   ]
  },
  {
   "cell_type": "code",
   "execution_count": null,
   "metadata": {},
   "outputs": [],
   "source": []
  },
  {
   "cell_type": "code",
   "execution_count": 127,
   "metadata": {},
   "outputs": [],
   "source": [
    "from sklearn.neighbors.kde import KernelDensity\n",
    "# Why not use sklearn.decomposition.PCA?\n",
    "def getPCA(matrix):\n",
    "    eVal, eVec = np.linalg.eigh(matrix)\n",
    "    indices = eVal.argsort()[::-1]\n",
    "    eVal, eVec = eVal[indices],eVec[:, indices]\n",
    "    eVal = np.diagflat(eVal)\n",
    "    return eVal, eVec\n",
    "\n",
    "def fitKDE(obs, bWidth = 0.25, kernel = 'gaussian', x = None):\n",
    "    if len(obs,shape) == 1:\n",
    "        obs = obs.reshape(-1, 1)\n",
    "    kde = KernelDensity(kernel= kernel, bandwidth=bWidth).fit(obs)\n",
    "    if x is None:\n",
    "        x = np.unique(obs).reshape(-1, 1)\n",
    "    if len(x.shape) == 1:\n",
    "        x = x.reshape(-1, 1)\n",
    "    logProb = kde.score_samples(x)\n",
    "    pdf = pd.Series(np.exp(logProb), index = x.flatten())\n",
    "    return pdf"
   ]
  },
  {
   "cell_type": "code",
   "execution_count": 129,
   "metadata": {},
   "outputs": [],
   "source": [
    "def getRndConv(nCols, nFacts):\n",
    "    w = np.random.normal(size = (nCols, nFacts))\n",
    "    cov = np.dot(w, w.T)\n",
    "    cov += np.diag(np.random.uniform(size = nCols))\n",
    "    return cov\n",
    "\n",
    "def cov2corr(cov):\n",
    "    std = np.sqrt(np.diag(cov))\n",
    "    corr = cov / np.outer(std, std)\n",
    "    corr[corr < -1], corr[corr > 1] = -1, 1\n",
    "    return corr\n",
    "\n",
    "alpha, nCols, nFact = 0.995, 1000, 100\n",
    "q = int(nCols / nFact)\n",
    "cov = np.cov(np.random.normal(size = (nCols * q, nCols)), rowvar=0)\n",
    "cov = alpha * cov + (1 - alpha) * getRndConv(nCols, nFact)\n",
    "corr0 = cov2corr(cov)\n",
    "eVal10, eVec = getPCA(corr0)"
   ]
  },
  {
   "cell_type": "code",
   "execution_count": null,
   "metadata": {},
   "outputs": [],
   "source": []
  }
 ],
 "metadata": {
  "kernelspec": {
   "display_name": "Python 3",
   "language": "python",
   "name": "python3"
  },
  "language_info": {
   "codemirror_mode": {
    "name": "ipython",
    "version": 3
   },
   "file_extension": ".py",
   "mimetype": "text/x-python",
   "name": "python",
   "nbconvert_exporter": "python",
   "pygments_lexer": "ipython3",
   "version": "3.6.4"
  }
 },
 "nbformat": 4,
 "nbformat_minor": 2
}
