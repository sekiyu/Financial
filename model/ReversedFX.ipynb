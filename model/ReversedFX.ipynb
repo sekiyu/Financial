{
 "cells": [
  {
   "cell_type": "markdown",
   "metadata": {},
   "source": [
    "# Order of FX currency pair"
   ]
  },
  {
   "cell_type": "code",
   "execution_count": 1,
   "metadata": {},
   "outputs": [],
   "source": [
    "import black_scholes as bs"
   ]
  },
  {
   "cell_type": "code",
   "execution_count": 2,
   "metadata": {},
   "outputs": [],
   "source": [
    "fwd = 100\n",
    "strike = 105\n",
    "vol = 0.1\n",
    "tau = 1"
   ]
  },
  {
   "cell_type": "markdown",
   "metadata": {},
   "source": [
    "##  Premium\n",
    "### 1. $1 USD call JPY put in JPY unit"
   ]
  },
  {
   "cell_type": "code",
   "execution_count": 3,
   "metadata": {},
   "outputs": [
    {
     "data": {
      "text/plain": [
       "2.064019137898846"
      ]
     },
     "execution_count": 3,
     "metadata": {},
     "output_type": "execute_result"
    }
   ],
   "source": [
    "bs.black_call(fwd, strike, vol, tau)"
   ]
  },
  {
   "cell_type": "markdown",
   "metadata": {},
   "source": [
    "### 2. ¥1 JPY put USD call in USD unit\n",
    "reversed oreder FX put"
   ]
  },
  {
   "cell_type": "code",
   "execution_count": 4,
   "metadata": {
    "scrolled": true
   },
   "outputs": [
    {
     "data": {
      "text/plain": [
       "0.00019657325122846014"
      ]
     },
     "execution_count": 4,
     "metadata": {},
     "output_type": "execute_result"
    }
   ],
   "source": [
    "bs.black_put(1/fwd, 1/strike, vol, tau)"
   ]
  },
  {
   "cell_type": "markdown",
   "metadata": {},
   "source": [
    "### 3. ¥1 JPY put USD call in JPY unit"
   ]
  },
  {
   "cell_type": "code",
   "execution_count": 5,
   "metadata": {
    "scrolled": true
   },
   "outputs": [
    {
     "data": {
      "text/plain": [
       "0.019657325122846014"
      ]
     },
     "execution_count": 5,
     "metadata": {},
     "output_type": "execute_result"
    }
   ],
   "source": [
    "bs.black_put(1/fwd, 1/strike, vol, tau) * fwd"
   ]
  },
  {
   "cell_type": "markdown",
   "metadata": {},
   "source": [
    "### 4. ¥ corrsponding to $1 JPY put USD call in JPY unit\n",
    "This is equal to 1."
   ]
  },
  {
   "cell_type": "code",
   "execution_count": 6,
   "metadata": {},
   "outputs": [
    {
     "data": {
      "text/plain": [
       "2.0640191378988315"
      ]
     },
     "execution_count": 6,
     "metadata": {},
     "output_type": "execute_result"
    }
   ],
   "source": [
    "bs.black_put(1/fwd, 1/strike, vol, tau) * fwd * strike"
   ]
  },
  {
   "cell_type": "code",
   "execution_count": null,
   "metadata": {},
   "outputs": [],
   "source": []
  },
  {
   "cell_type": "markdown",
   "metadata": {},
   "source": [
    "## B. Delta and Strike"
   ]
  },
  {
   "cell_type": "code",
   "execution_count": 7,
   "metadata": {},
   "outputs": [],
   "source": [
    "import math"
   ]
  },
  {
   "cell_type": "markdown",
   "metadata": {},
   "source": [
    "### Unadjusted delta"
   ]
  },
  {
   "cell_type": "code",
   "execution_count": 8,
   "metadata": {},
   "outputs": [
    {
     "name": "stdout",
     "output_type": "stream",
     "text": [
      "USD/JPY 0.3307287927429813\n"
     ]
    }
   ],
   "source": [
    "usdjpydelta = bs.black_delta(fwd, strike, vol, tau, True)\n",
    "print('USD/JPY', usdjpydelta)"
   ]
  },
  {
   "cell_type": "code",
   "execution_count": 9,
   "metadata": {},
   "outputs": [
    {
     "name": "stdout",
     "output_type": "stream",
     "text": [
      "JPY/USD -0.2953224774895178\n"
     ]
    }
   ],
   "source": [
    "jpyusdprem = bs.black_put(1/fwd, 1/strike, vol, tau)\n",
    "jpyusddelta = bs.black_delta(1/fwd, 1/strike, vol, tau, False)\n",
    "print('JPY/USD', jpyusddelta)"
   ]
  },
  {
   "cell_type": "code",
   "execution_count": 10,
   "metadata": {},
   "outputs": [
    {
     "name": "stdout",
     "output_type": "stream",
     "text": [
      "calc: 0.330728792742982\n"
     ]
    }
   ],
   "source": [
    "jpyusdprem = bs.black_put(1/fwd, 1/strike, vol, tau)\n",
    "print('calc:', jpyusdprem * strike - strike / fwd * jpyusddelta)"
   ]
  },
  {
   "cell_type": "code",
   "execution_count": null,
   "metadata": {},
   "outputs": [],
   "source": []
  },
  {
   "cell_type": "code",
   "execution_count": null,
   "metadata": {},
   "outputs": [],
   "source": []
  },
  {
   "cell_type": "markdown",
   "metadata": {},
   "source": [
    "### Premium adjusted ATM delta"
   ]
  },
  {
   "cell_type": "markdown",
   "metadata": {},
   "source": [
    "#### USD call JPY put\n",
    "- Domestic currency premium (premium currency = right currency)"
   ]
  },
  {
   "cell_type": "code",
   "execution_count": 11,
   "metadata": {},
   "outputs": [
    {
     "name": "stdout",
     "output_type": "stream",
     "text": [
      "DNS ATM JPY premium: 100.5012520859401\n"
     ]
    }
   ],
   "source": [
    "atm_dns_right = fwd * math.exp(1/2 * vol**2 * tau)\n",
    "print('DNS ATM JPY premium:', atm_dns_right)"
   ]
  },
  {
   "cell_type": "code",
   "execution_count": 12,
   "metadata": {},
   "outputs": [
    {
     "name": "stdout",
     "output_type": "stream",
     "text": [
      "straddle delta : 8.881784197001252e-16\n"
     ]
    }
   ],
   "source": [
    "call_delta_right = bs.black_delta(fwd, atm_dns_right, vol, tau, True)\n",
    "put_delta_right = bs.black_delta(fwd, atm_dns_right, vol, tau, False)\n",
    "print('straddle delta :', call_delta_right + put_delta_right)"
   ]
  },
  {
   "cell_type": "markdown",
   "metadata": {},
   "source": [
    " - Foreigin currency premium (premium currency = left currency) \n",
    " \n",
    " (*) premium adjustment is needed"
   ]
  },
  {
   "cell_type": "code",
   "execution_count": 13,
   "metadata": {},
   "outputs": [
    {
     "name": "stdout",
     "output_type": "stream",
     "text": [
      "DNS ATM USD premium: 99.50124791926824\n"
     ]
    }
   ],
   "source": [
    "atm_dns_left = fwd * math.exp(-1/2 * vol**2 * tau)\n",
    "print('DNS ATM USD premium:', atm_dns_left)"
   ]
  },
  {
   "cell_type": "code",
   "execution_count": 14,
   "metadata": {},
   "outputs": [
    {
     "name": "stdout",
     "output_type": "stream",
     "text": [
      "straddle delta : -6.661338147750939e-16\n"
     ]
    }
   ],
   "source": [
    "call_delta_left = bs.black_delta(fwd, atm_dns_left, vol, tau, True) - bs.black_call(fwd, atm_dns_left, vol, tau) / fwd\n",
    "put_delta_left = bs.black_delta(fwd, atm_dns_left, vol, tau, False) - bs.black_put(fwd, atm_dns_left, vol, tau) / fwd\n",
    "print('straddle delta :', call_delta_left + put_delta_left)"
   ]
  },
  {
   "cell_type": "markdown",
   "metadata": {},
   "source": [
    "#### JPY call USD put\n",
    " - premium currency = right currency"
   ]
  },
  {
   "cell_type": "code",
   "execution_count": 15,
   "metadata": {},
   "outputs": [
    {
     "name": "stdout",
     "output_type": "stream",
     "text": [
      "DNS ATM USD premium: 0.01005012520859401\n",
      "reciprocal : 99.50124791926824\n"
     ]
    }
   ],
   "source": [
    "atm_dns_right_r = 1/fwd * math.exp(1/2 * vol**2 * tau)\n",
    "print('DNS ATM USD premium:', atm_dns_right_r)\n",
    "print('reciprocal :', 1/atm_dns_right_r)"
   ]
  },
  {
   "cell_type": "code",
   "execution_count": 16,
   "metadata": {},
   "outputs": [
    {
     "name": "stdout",
     "output_type": "stream",
     "text": [
      "straddle delta : 8.881784197001252e-16\n"
     ]
    }
   ],
   "source": [
    "call_delta_right_r = bs.black_delta(1/fwd, atm_dns_right_r, vol, tau, True)\n",
    "put_delta_right_r = bs.black_delta(1/fwd, atm_dns_right_r, vol, tau, False)\n",
    "print('straddle delta :', call_delta_right_r + put_delta_right_r)"
   ]
  },
  {
   "cell_type": "markdown",
   "metadata": {},
   "source": [
    " - premium currency = left currency\n",
    "  \n",
    " (*) premium adjustment is needed"
   ]
  },
  {
   "cell_type": "code",
   "execution_count": 17,
   "metadata": {},
   "outputs": [
    {
     "name": "stdout",
     "output_type": "stream",
     "text": [
      "DNS ATM JPY premium: 0.009950124791926824\n",
      "reciprocal : 100.5012520859401\n"
     ]
    }
   ],
   "source": [
    "atm_dns_left_r = 1/fwd * math.exp(-1/2 * vol**2 * tau)\n",
    "print('DNS ATM JPY premium:', atm_dns_left_r)\n",
    "print('reciprocal :', 1/atm_dns_left_r)"
   ]
  },
  {
   "cell_type": "code",
   "execution_count": 18,
   "metadata": {},
   "outputs": [
    {
     "name": "stdout",
     "output_type": "stream",
     "text": [
      "straddle delta : -6.661338147750939e-16\n"
     ]
    }
   ],
   "source": [
    "call_delta_left_r = bs.black_delta(1/fwd, atm_dns_left_r, vol, tau, True) - bs.black_call(1/fwd, atm_dns_left_r, vol, tau) * fwd\n",
    "put_delta_left_r = bs.black_delta(1/fwd, atm_dns_left_r, vol, tau, False) - bs.black_put(1/fwd, atm_dns_left_r, vol, tau) * fwd\n",
    "print('straddle delta :', call_delta_left_r + put_delta_left_r)"
   ]
  },
  {
   "cell_type": "markdown",
   "metadata": {},
   "source": [
    "## DNS ATM strike coincides if the order of currency pair is reversed"
   ]
  },
  {
   "cell_type": "code",
   "execution_count": null,
   "metadata": {},
   "outputs": [],
   "source": []
  },
  {
   "cell_type": "markdown",
   "metadata": {},
   "source": [
    "## Delta at strike K = 105"
   ]
  },
  {
   "cell_type": "code",
   "execution_count": 56,
   "metadata": {},
   "outputs": [],
   "source": [
    "# K = fwd * math.exp(-1/2 * vol**2 * tau)\n",
    "K =105"
   ]
  },
  {
   "cell_type": "markdown",
   "metadata": {},
   "source": [
    "- USD/JPY USD premium\n",
    "\n",
    "premium adjustment is needed"
   ]
  },
  {
   "cell_type": "code",
   "execution_count": 57,
   "metadata": {},
   "outputs": [
    {
     "name": "stdout",
     "output_type": "stream",
     "text": [
      "Call delta : 0.3100886013639928\n",
      "Put delta : -0.7399113986360072\n"
     ]
    }
   ],
   "source": [
    "call_delta_k = bs.black_delta(fwd, K, vol, tau, True) - bs.black_call(fwd, K, vol, tau) / fwd\n",
    "put_delta_k = bs.black_delta(fwd, K, vol, tau, False) - bs.black_put(fwd, K, vol, tau) / fwd\n",
    "print('Call delta :', call_delta_k)\n",
    "print('Put delta :', put_delta_k)"
   ]
  },
  {
   "cell_type": "markdown",
   "metadata": {},
   "source": [
    "- JPY/USD USD premium\n",
    "\n",
    "no adjustment"
   ]
  },
  {
   "cell_type": "code",
   "execution_count": 58,
   "metadata": {},
   "outputs": [
    {
     "name": "stdout",
     "output_type": "stream",
     "text": [
      "Call delta : 0.7046775225104822\n",
      "Put delta : -0.2953224774895178\n"
     ]
    }
   ],
   "source": [
    "call_delta_k_r = bs.black_delta(1/fwd, 1/K, vol, tau, True)\n",
    "put_delta_k_r = bs.black_delta(1/fwd, 1/K, vol, tau, False)\n",
    "print('Call delta :', call_delta_k_r)\n",
    "print('Put delta :', put_delta_k_r)"
   ]
  },
  {
   "cell_type": "code",
   "execution_count": null,
   "metadata": {},
   "outputs": [],
   "source": []
  },
  {
   "cell_type": "code",
   "execution_count": null,
   "metadata": {},
   "outputs": [],
   "source": []
  }
 ],
 "metadata": {
  "kernelspec": {
   "display_name": "Python 3",
   "language": "python",
   "name": "python3"
  },
  "language_info": {
   "codemirror_mode": {
    "name": "ipython",
    "version": 3
   },
   "file_extension": ".py",
   "mimetype": "text/x-python",
   "name": "python",
   "nbconvert_exporter": "python",
   "pygments_lexer": "ipython3",
   "version": "3.6.4"
  }
 },
 "nbformat": 4,
 "nbformat_minor": 2
}
