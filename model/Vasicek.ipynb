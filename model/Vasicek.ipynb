{
 "cells": [
  {
   "cell_type": "code",
   "execution_count": 1,
   "metadata": {},
   "outputs": [],
   "source": [
    "import numpy as np\n",
    "import matplotlib.pyplot as plt\n",
    "%matplotlib inline"
   ]
  },
  {
   "cell_type": "code",
   "execution_count": 2,
   "metadata": {},
   "outputs": [],
   "source": [
    "import vasicek"
   ]
  },
  {
   "cell_type": "code",
   "execution_count": 3,
   "metadata": {},
   "outputs": [],
   "source": [
    "# These values are from \"Implementing Derivatives Models, Clewlow\"\n",
    "kappa = 0.15\n",
    "volatility = 0.01\n",
    "r0 = 0.05\n",
    "theta = r0"
   ]
  },
  {
   "cell_type": "code",
   "execution_count": 4,
   "metadata": {},
   "outputs": [],
   "source": [
    "model = vasicek.Vasicek(volatility, theta, kappa)"
   ]
  },
  {
   "cell_type": "code",
   "execution_count": 5,
   "metadata": {},
   "outputs": [],
   "source": [
    "curve_initial = model.get_curve(0, r0)"
   ]
  },
  {
   "cell_type": "code",
   "execution_count": 6,
   "metadata": {},
   "outputs": [
    {
     "data": {
      "text/plain": [
       "0.9512436133209152"
      ]
     },
     "execution_count": 6,
     "metadata": {},
     "output_type": "execute_result"
    }
   ],
   "source": [
    "curve_initial.get_df(1)"
   ]
  },
  {
   "cell_type": "code",
   "execution_count": 7,
   "metadata": {},
   "outputs": [
    {
     "data": {
      "text/plain": [
       "0.7797609496298229"
      ]
     },
     "execution_count": 7,
     "metadata": {},
     "output_type": "execute_result"
    }
   ],
   "source": [
    "curve_initial.get_df(5)"
   ]
  },
  {
   "cell_type": "markdown",
   "metadata": {},
   "source": [
    "# Calculation setting"
   ]
  },
  {
   "cell_type": "code",
   "execution_count": 160,
   "metadata": {},
   "outputs": [],
   "source": [
    "T = 10\n",
    "timestep = 1/12\n",
    "numgrid = (int)(T / timestep)\n",
    "numpath = 10000"
   ]
  },
  {
   "cell_type": "code",
   "execution_count": 161,
   "metadata": {},
   "outputs": [
    {
     "data": {
      "text/plain": [
       "120"
      ]
     },
     "execution_count": 161,
     "metadata": {},
     "output_type": "execute_result"
    }
   ],
   "source": [
    "numgrid"
   ]
  },
  {
   "cell_type": "markdown",
   "metadata": {},
   "source": [
    "# Generate Path"
   ]
  },
  {
   "cell_type": "code",
   "execution_count": 162,
   "metadata": {},
   "outputs": [],
   "source": [
    "paths = np.ones((numpath, 1)) * r0"
   ]
  },
  {
   "cell_type": "code",
   "execution_count": 163,
   "metadata": {},
   "outputs": [],
   "source": [
    "for i in range(numgrid):\n",
    "    evolved = model.proceed(paths[:, i], timestep, np.random.normal(size = numpath))\n",
    "    paths = np.append(paths, evolved.reshape(numpath, -1), axis = 1)\n",
    "    "
   ]
  },
  {
   "cell_type": "code",
   "execution_count": 164,
   "metadata": {},
   "outputs": [],
   "source": [
    "df_T = curve_initial.get_df(T)"
   ]
  },
  {
   "cell_type": "code",
   "execution_count": 165,
   "metadata": {},
   "outputs": [],
   "source": [
    "t = 5\n",
    "nt = (int)(numgrid * t / T)\n",
    "path_on_t = paths[:, nt]"
   ]
  },
  {
   "cell_type": "code",
   "execution_count": 166,
   "metadata": {},
   "outputs": [],
   "source": [
    "dfs_t = []\n",
    "for r in path_on_t:\n",
    "    curve = model.get_curve(t, r)\n",
    "    dfs_t.append(curve.get_df(T))\n",
    "    "
   ]
  },
  {
   "cell_type": "code",
   "execution_count": 167,
   "metadata": {},
   "outputs": [
    {
     "name": "stdout",
     "output_type": "stream",
     "text": [
      "DF(t,t,T) =  0.7811799485778099\n",
      "ZeroRate 0.04938994955442982\n"
     ]
    }
   ],
   "source": [
    "# simulated DF(t, t, T)\n",
    "dfttT = np.mean(dfs_t)\n",
    "print('DF(t,t,T) = ', dfttT)\n",
    "print('ZeroRate', -np.log(dfttT) / (T-t))"
   ]
  },
  {
   "cell_type": "code",
   "execution_count": 168,
   "metadata": {},
   "outputs": [
    {
     "name": "stdout",
     "output_type": "stream",
     "text": [
      "DF(0,t,T) =  0.7827126408493633\n",
      "ZeroRate 0.048997929597910786\n"
     ]
    }
   ],
   "source": [
    "# Expectation DF(0, t, T)\n",
    "df0tT = curve_initial.get_df(T) / curve_initial.get_df(t)\n",
    "print('DF(0,t,T) = ', df0tT)\n",
    "print('ZeroRate', -np.log(df0tT) / (T-t))"
   ]
  },
  {
   "cell_type": "markdown",
   "metadata": {},
   "source": [
    "↑ずれている\n",
    "時間のグリッドが荒いのが原因と考えられる\n",
    "\n",
    "グリッドの切り方に応じてドリフトを調整する必要がある"
   ]
  },
  {
   "cell_type": "code",
   "execution_count": null,
   "metadata": {},
   "outputs": [],
   "source": []
  }
 ],
 "metadata": {
  "kernelspec": {
   "display_name": "Python 3",
   "language": "python",
   "name": "python3"
  },
  "language_info": {
   "codemirror_mode": {
    "name": "ipython",
    "version": 3
   },
   "file_extension": ".py",
   "mimetype": "text/x-python",
   "name": "python",
   "nbconvert_exporter": "python",
   "pygments_lexer": "ipython3",
   "version": "3.6.4"
  }
 },
 "nbformat": 4,
 "nbformat_minor": 2
}
