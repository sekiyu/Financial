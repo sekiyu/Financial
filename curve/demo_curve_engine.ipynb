{
 "cells": [
  {
   "cell_type": "markdown",
   "metadata": {},
   "source": [
    "# Demo of building curve"
   ]
  },
  {
   "cell_type": "code",
   "execution_count": 4,
   "metadata": {},
   "outputs": [],
   "source": [
    "import numpy as np\n",
    "import matplotlib.pyplot as plt\n",
    "%matplotlib inline"
   ]
  },
  {
   "cell_type": "code",
   "execution_count": 5,
   "metadata": {},
   "outputs": [],
   "source": [
    "import curve\n",
    "import curveman\n",
    "import curveng\n",
    "import cminstruments as inst"
   ]
  },
  {
   "cell_type": "markdown",
   "metadata": {},
   "source": [
    "## Define instruments which we calibrate curves to"
   ]
  },
  {
   "cell_type": "code",
   "execution_count": 6,
   "metadata": {},
   "outputs": [],
   "source": [
    "grids_fixed_ois = [7/365, 1/12, 2/12, 3/12, 6/12, 9/12, 1]\n",
    "fixed_ois = [inst.ZeroRate(0, end, 'JPY-OIS') for end in grids_fixed_ois]\n",
    "fixed_ois_rates = np.array([0.001, 0.001, 0.0015, 0.002, 0.0022, 0.003, 0.0035])"
   ]
  },
  {
   "cell_type": "markdown",
   "metadata": {},
   "source": [
    "## Create CurveManager"
   ]
  },
  {
   "cell_type": "code",
   "execution_count": 7,
   "metadata": {},
   "outputs": [],
   "source": [
    "cm = curveman.CurveManager()"
   ]
  },
  {
   "cell_type": "markdown",
   "metadata": {},
   "source": [
    "## Define curves and register them to CurveManager"
   ]
  },
  {
   "cell_type": "code",
   "execution_count": 8,
   "metadata": {},
   "outputs": [],
   "source": [
    "grids_ois = [7/365, 1/12, 0.4, 0.6, 1]\n",
    "dfs_ois = np.ones((len(grids_ois), ))\n",
    "ois_base = curve.Curve(grids_ois, dfs_ois, 'log_linear')\n",
    "cm.append_curve('JPY-OIS-BASE', ois_base)\n",
    "\n",
    "turn1_from = 0.2\n",
    "turn1_to = 0.21\n",
    "turn1_size = 0.0\n",
    "turn1 = curve.TurnCurve(turn1_from, turn1_to, turn1_size)\n",
    "cm.append_curve('JPY-Turn1', turn1)\n",
    "\n",
    "turn2_from = 0.7\n",
    "turn2_to = 0.71\n",
    "turn2_size = 0.0\n",
    "turn2 = curve.TurnCurve(turn2_from, turn2_to, turn2_size)\n",
    "cm.append_curve('JPY-Turn2', turn2)\n",
    "\n",
    "cm.register_basis_curve('JPY-OIS',\n",
    "                        ['JPY-OIS-BASE', 'JPY-Turn1', 'JPY-Turn2'])"
   ]
  },
  {
   "cell_type": "markdown",
   "metadata": {},
   "source": [
    "show the curves' degree of freedom"
   ]
  },
  {
   "cell_type": "code",
   "execution_count": 9,
   "metadata": {},
   "outputs": [
    {
     "name": "stdout",
     "output_type": "stream",
     "text": [
      "[('JPY-OIS-BASE', 5), ('JPY-Turn1', 1), ('JPY-Turn2', 1)]\n"
     ]
    }
   ],
   "source": [
    "print(cm.get_grids())"
   ]
  },
  {
   "cell_type": "markdown",
   "metadata": {},
   "source": [
    "## Prepare loss function and create CurveEngine"
   ]
  },
  {
   "cell_type": "code",
   "execution_count": 12,
   "metadata": {},
   "outputs": [],
   "source": [
    "loss = lambda xs, ys: np.sum((np.array(xs) - np.array(ys))**2)\n",
    "ce = curveng.CurveEngine(cm,\n",
    "                         fixed_ois,\n",
    "                         loss)"
   ]
  },
  {
   "cell_type": "markdown",
   "metadata": {},
   "source": [
    "## Build curve"
   ]
  },
  {
   "cell_type": "code",
   "execution_count": 14,
   "metadata": {},
   "outputs": [
    {
     "name": "stdout",
     "output_type": "stream",
     "text": [
      "CPU times: user 5.97 s, sys: 11.3 ms, total: 5.98 s\n",
      "Wall time: 5.98 s\n"
     ]
    }
   ],
   "source": [
    "%%time\n",
    "cm = ce.build_curve(fixed_ois_rates)"
   ]
  },
  {
   "cell_type": "markdown",
   "metadata": {},
   "source": [
    "## show the accuracy of calibration "
   ]
  },
  {
   "cell_type": "code",
   "execution_count": 15,
   "metadata": {},
   "outputs": [
    {
     "name": "stdout",
     "output_type": "stream",
     "text": [
      "market rates : [0.001  0.001  0.0015 0.002  0.0022 0.003  0.0035]\n",
      "calibrated ois : [0.001  0.001  0.0015 0.002  0.0022 0.003  0.0035]\n"
     ]
    }
   ],
   "source": [
    "print('market rates :', fixed_ois_rates)\n",
    "evaluated = np.array([ois.par_rate(cm) for ois in fixed_ois])\n",
    "print('calibrated ois :', evaluated)"
   ]
  },
  {
   "cell_type": "markdown",
   "metadata": {},
   "source": [
    "## Plot the forward curve"
   ]
  },
  {
   "cell_type": "code",
   "execution_count": 16,
   "metadata": {},
   "outputs": [
    {
     "data": {
      "image/png": "[encoded data removed]",
      "text/plain": [
       "<matplotlib.figure.Figure at 0x10a72f7f0>"
      ]
     },
     "metadata": {},
     "output_type": "display_data"
    }
   ],
   "source": [
    "ts = np.arange(0, 1, 1/365)\n",
    "df = cm.get_curve('JPY-OIS').get_df(ts)\n",
    "\n",
    "fwd = -np.log(df[1:] / df[:-1]) / (ts[1:] - ts[:-1])\n",
    "plt.plot(ts[:-1], fwd, label = 'turned')\n",
    "plt.legend()\n",
    "plt.show()"
   ]
  },
  {
   "cell_type": "code",
   "execution_count": null,
   "metadata": {},
   "outputs": [],
   "source": []
  }
 ],
 "metadata": {
  "kernelspec": {
   "display_name": "Python 3",
   "language": "python",
   "name": "python3"
  },
  "language_info": {
   "codemirror_mode": {
    "name": "ipython",
    "version": 3
   },
   "file_extension": ".py",
   "mimetype": "text/x-python",
   "name": "python",
   "nbconvert_exporter": "python",
   "pygments_lexer": "ipython3",
   "version": "3.6.4"
  }
 },
 "nbformat": 4,
 "nbformat_minor": 2
}
