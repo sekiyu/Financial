{
 "cells": [
  {
   "cell_type": "markdown",
   "metadata": {},
   "source": [
    "# Demo of building curve"
   ]
  },
  {
   "cell_type": "code",
   "execution_count": 1,
   "metadata": {},
   "outputs": [],
   "source": [
    "import numpy as np\n",
    "import matplotlib.pyplot as plt\n",
    "%matplotlib inline"
   ]
  },
  {
   "cell_type": "code",
   "execution_count": 2,
   "metadata": {},
   "outputs": [],
   "source": [
    "import curve\n",
    "import curveman\n",
    "import curveng\n",
    "import cminstruments as inst"
   ]
  },
  {
   "cell_type": "markdown",
   "metadata": {},
   "source": [
    "## Define instruments which we calibrate curves to"
   ]
  },
  {
   "cell_type": "code",
   "execution_count": 3,
   "metadata": {},
   "outputs": [],
   "source": [
    "grids_fixed_ois = [7/365, 1/12, 2/12, 3/12, 6/12, 9/12, 1]\n",
    "fixed_ois = [inst.ZeroRate(0, end, 'JPY-OIS') for end in grids_fixed_ois]\n",
    "fixed_ois_rates = np.array([0.001, 0.001, 0.0015, 0.002, 0.0022, 0.003, 0.0035])"
   ]
  },
  {
   "cell_type": "code",
   "execution_count": 4,
   "metadata": {},
   "outputs": [],
   "source": [
    "start_fra = [0, 3/12, 6/12]\n",
    "end_fra = [6/12, 9/12, 1]\n",
    "fra = [inst.SimpleRate(start, end, 'JPY-LIBOR') for start, end in zip(start_fra ,end_fra)]\n",
    "fra_rates = [0.004, 0.006, 0.008]"
   ]
  },
  {
   "cell_type": "markdown",
   "metadata": {},
   "source": [
    "## Create CurveManager"
   ]
  },
  {
   "cell_type": "code",
   "execution_count": 5,
   "metadata": {},
   "outputs": [],
   "source": [
    "cm = curveman.CurveManager()"
   ]
  },
  {
   "cell_type": "markdown",
   "metadata": {},
   "source": [
    "## Define curves and register them to CurveManager"
   ]
  },
  {
   "cell_type": "code",
   "execution_count": 6,
   "metadata": {},
   "outputs": [],
   "source": [
    "grids_ois = [7/365, 1/12, 0.4, 0.6, 1]\n",
    "dfs_ois = np.ones((len(grids_ois), ))\n",
    "ois_base = curve.Curve(grids_ois, dfs_ois, 'log_linear')\n",
    "cm.append_curve('JPY-OIS-BASE', ois_base)\n",
    "\n",
    "turn1_from = 0.2\n",
    "turn1_to = 0.21\n",
    "turn1_size = 0.0\n",
    "turn1 = curve.TurnCurve(turn1_from, turn1_to, turn1_size)\n",
    "cm.append_curve('JPY-Turn1', turn1)\n",
    "\n",
    "turn2_from = 0.7\n",
    "turn2_to = 0.71\n",
    "turn2_size = 0.0\n",
    "turn2 = curve.TurnCurve(turn2_from, turn2_to, turn2_size)\n",
    "cm.append_curve('JPY-Turn2', turn2)\n",
    "\n",
    "cm.register_basis_curve('JPY-OIS',\n",
    "                        ['JPY-OIS-BASE', 'JPY-Turn1', 'JPY-Turn2'])"
   ]
  },
  {
   "cell_type": "code",
   "execution_count": 7,
   "metadata": {},
   "outputs": [],
   "source": [
    "grids_lo = end_fra\n",
    "dfs_lo = np.ones((len(grids_lo), ))\n",
    "lo = curve.Curve(grids_lo, dfs_lo, 'monotone_convex')\n",
    "cm.append_curve('JPY-LO', lo)\n",
    "\n",
    "cm.register_basis_curve('JPY-LIBOR',\n",
    "                        ['JPY-OIS', 'JPY-LO'])"
   ]
  },
  {
   "cell_type": "markdown",
   "metadata": {},
   "source": [
    "show the curves' degree of freedom"
   ]
  },
  {
   "cell_type": "code",
   "execution_count": 8,
   "metadata": {},
   "outputs": [
    {
     "name": "stdout",
     "output_type": "stream",
     "text": [
      "[('JPY-OIS-BASE', 5), ('JPY-Turn1', 1), ('JPY-Turn2', 1), ('JPY-LO', 3)]\n"
     ]
    }
   ],
   "source": [
    "print(cm.get_grids())"
   ]
  },
  {
   "cell_type": "markdown",
   "metadata": {},
   "source": [
    "## Prepare loss function and create CurveEngine"
   ]
  },
  {
   "cell_type": "code",
   "execution_count": 9,
   "metadata": {},
   "outputs": [],
   "source": [
    "loss = lambda xs, ys: np.sum((np.array(xs) - np.array(ys))**2)\n",
    "ce = curveng.CurveEngine(cm,\n",
    "                         fixed_ois + fra,\n",
    "                         loss)"
   ]
  },
  {
   "cell_type": "markdown",
   "metadata": {},
   "source": [
    "## Build curve"
   ]
  },
  {
   "cell_type": "code",
   "execution_count": 10,
   "metadata": {},
   "outputs": [
    {
     "name": "stderr",
     "output_type": "stream",
     "text": [
      "/Users/yuseki/Documents/Financial/curve/interpolation.py:106: RuntimeWarning: invalid value encountered in true_divide\n",
      "  eta = 1 + 3. * g0 / (g1 - g0)\n",
      "/Users/yuseki/Documents/Financial/curve/interpolation.py:110: RuntimeWarning: invalid value encountered in true_divide\n",
      "  eta = 3. * g1 / (g1 - g0)\n",
      "/Users/yuseki/Documents/Financial/curve/interpolation.py:117: RuntimeWarning: invalid value encountered in true_divide\n",
      "  eta = g1 / (g0 + g1)\n",
      "/Users/yuseki/Documents/Financial/curve/interpolation.py:118: RuntimeWarning: invalid value encountered in true_divide\n",
      "  A = -g0 * g1 / (g0 + g1)\n",
      "/Users/yuseki/Documents/Financial/curve/interpolation.py:106: RuntimeWarning: divide by zero encountered in true_divide\n",
      "  eta = 1 + 3. * g0 / (g1 - g0)\n",
      "/Users/yuseki/Documents/Financial/curve/interpolation.py:107: RuntimeWarning: invalid value encountered in multiply\n",
      "  Gii = g0 * x + np.where(x < eta, 0, (g1 - g0) * (x - eta)**3 / (3 * (1 - eta)**2))\n",
      "/Users/yuseki/Documents/Financial/curve/interpolation.py:110: RuntimeWarning: divide by zero encountered in true_divide\n",
      "  eta = 3. * g1 / (g1 - g0)\n",
      "/Users/yuseki/Documents/Financial/curve/interpolation.py:112: RuntimeWarning: invalid value encountered in add\n",
      "  Giiia = g1 * x + (g0 - g1) * ((x - eta)**3 + eta**3) / (3 * eta**2)\n",
      "/Users/yuseki/Documents/Financial/curve/interpolation.py:107: RuntimeWarning: divide by zero encountered in true_divide\n",
      "  Gii = g0 * x + np.where(x < eta, 0, (g1 - g0) * (x - eta)**3 / (3 * (1 - eta)**2))\n",
      "/Users/yuseki/Documents/Financial/curve/interpolation.py:124: RuntimeWarning: divide by zero encountered in true_divide\n",
      "  Givb = A * x + (g0 - A) * eta / 3 + (g1 - A) * (x - eta)**3 / (3 * (1 - eta)**2)\n",
      "/Users/yuseki/Documents/Financial/curve/interpolation.py:112: RuntimeWarning: invalid value encountered in true_divide\n",
      "  Giiia = g1 * x + (g0 - g1) * ((x - eta)**3 + eta**3) / (3 * eta**2)\n",
      "/Users/yuseki/Documents/Financial/curve/interpolation.py:122: RuntimeWarning: invalid value encountered in true_divide\n",
      "  Giva = A * x + (g0 - A) * ((x - eta)**3 + eta**3) / (3 * eta**2)\n"
     ]
    },
    {
     "name": "stdout",
     "output_type": "stream",
     "text": [
      "param: [0.99998082 0.99991668 0.99928366 0.99868434 0.99668903 0.00833031\n",
      " 0.01002316 0.99910225 0.9983763  0.99751312]\n",
      "CPU times: user 16 s, sys: 44.5 ms, total: 16 s\n",
      "Wall time: 16 s\n"
     ]
    }
   ],
   "source": [
    "%%time\n",
    "cm = ce.build_curve(np.concatenate((fixed_ois_rates, fra_rates)))"
   ]
  },
  {
   "cell_type": "markdown",
   "metadata": {},
   "source": [
    "## show the accuracy of calibration "
   ]
  },
  {
   "cell_type": "code",
   "execution_count": 11,
   "metadata": {},
   "outputs": [
    {
     "name": "stdout",
     "output_type": "stream",
     "text": [
      "calibrated ois : [0.00099996 0.00099987 0.00149984 0.00199971 0.00219973 0.00300005\n",
      " 0.00349999]\n",
      "calibrated fra : [[0.00400004]\n",
      " [0.00599997]\n",
      " [0.00799986]]\n",
      "ois market rates : [0.001  0.001  0.0015 0.002  0.0022 0.003  0.0035]\n",
      "fra market rates : [0.004, 0.006, 0.008]\n"
     ]
    }
   ],
   "source": [
    "ois_evaluated = np.array([ois.par_rate(cm) for ois in fixed_ois])\n",
    "fra_evaluated = np.array([inst.par_rate(cm) for inst in fra])\n",
    "print('calibrated ois :', ois_evaluated)\n",
    "print('calibrated fra :', fra_evaluated)\n",
    "\n",
    "print('ois market rates :', fixed_ois_rates)\n",
    "print('fra market rates :', fra_rates)"
   ]
  },
  {
   "cell_type": "markdown",
   "metadata": {},
   "source": [
    "## Plot the forward curve"
   ]
  },
  {
   "cell_type": "code",
   "execution_count": 12,
   "metadata": {},
   "outputs": [
    {
     "data": {
      "image/png": "[encoded data removed]",
      "text/plain": [
       "<matplotlib.figure.Figure at 0x10f4562e8>"
      ]
     },
     "metadata": {},
     "output_type": "display_data"
    }
   ],
   "source": [
    "ts = np.arange(0, 1, 1/365)\n",
    "df_ois = cm.get_curve('JPY-OIS').get_df(ts)\n",
    "df_libor = cm.get_curve('JPY-LIBOR').get_df(ts)\n",
    "\n",
    "fwd_ois = -np.log(df_ois[1:] / df_ois[:-1]) / (ts[1:] - ts[:-1])\n",
    "fwd_libor = -np.log(df_libor[1:] / df_libor[:-1]) / (ts[1:] - ts[:-1])\n",
    "plt.plot(ts[:-1], fwd_ois, label = 'ois')\n",
    "plt.plot(ts[:-1], fwd_libor, label = 'libor')\n",
    "plt.plot(ts[:-1], fwd_libor - fwd_ois, label = 'lo')\n",
    "\n",
    "plt.legend()\n",
    "plt.show()"
   ]
  },
  {
   "cell_type": "code",
   "execution_count": null,
   "metadata": {},
   "outputs": [],
   "source": []
  }
 ],
 "metadata": {
  "kernelspec": {
   "display_name": "Python 3",
   "language": "python",
   "name": "python3"
  },
  "language_info": {
   "codemirror_mode": {
    "name": "ipython",
    "version": 3
   },
   "file_extension": ".py",
   "mimetype": "text/x-python",
   "name": "python",
   "nbconvert_exporter": "python",
   "pygments_lexer": "ipython3",
   "version": "3.6.4"
  }
 },
 "nbformat": 4,
 "nbformat_minor": 2
}
